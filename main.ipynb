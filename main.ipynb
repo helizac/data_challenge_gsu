{
 "cells": [
  {
   "cell_type": "markdown",
   "metadata": {},
   "source": [
    "# <a id='toc1_'></a>[GSU Data Challenge](#toc0_)"
   ]
  },
  {
   "cell_type": "markdown",
   "metadata": {},
   "source": [
    "Authors:\n",
    "\n",
    "| Nom | Prenom | ID |\n",
    "| -------- | ----- | -------- |\n",
    "| Yurdakul | Bengü | 19401851 |\n",
    "| Şengül | Beste | 19401831 |\n",
    "| Erdi | Furkan | 21401966 |"
   ]
  },
  {
   "cell_type": "markdown",
   "metadata": {},
   "source": [
    "**İçindekiler**<a id='toc0_'></a>    \n",
    "- [GSU Data Challenge](#toc1_)    \n",
    "  - [1. Importing Libraries](#toc1_1_)    \n",
    "  - [2. Importing Data](#toc1_2_)    \n",
    "  - [3. Data Preprocessing](#toc1_3_)    \n",
    "  - [4. Analyizing](#toc1_4_)    \n",
    "  - [5. Splitting Data to Test and Train the Model](#toc1_5_)    \n",
    "  - [6. Train the Model](#toc1_6_)    \n",
    "    - [6.1. Product Based Estimation By ARIMA](#toc1_6_1_)    \n",
    "    - [6.2 By Random Forest Regressor](#toc1_6_2_)    \n",
    "    - [6.3. LSTM Method](#toc1_6_3_)    \n",
    "      - [!!! WILL BE EDITED](#toc1_6_3_1_)    \n",
    "\n",
    "<!-- vscode-jupyter-toc-config\n",
    "\tnumbering=false\n",
    "\tanchor=true\n",
    "\tflat=false\n",
    "\tminLevel=1\n",
    "\tmaxLevel=6\n",
    "\t/vscode-jupyter-toc-config -->\n",
    "<!-- THIS CELL WILL BE REPLACED ON TOC UPDATE. DO NOT WRITE YOUR TEXT IN THIS CELL -->"
   ]
  },
  {
   "cell_type": "markdown",
   "metadata": {},
   "source": [
    "## <a id='toc1_1_'></a>[1. Importing Libraries](#toc0_)"
   ]
  },
  {
   "cell_type": "code",
   "execution_count": null,
   "metadata": {},
   "outputs": [],
   "source": [
    "import pandas as pd\n",
    "import numpy as np\n",
    "\n",
    "from matplotlib import pyplot as plt\n",
    "from ydata_profiling import ProfileReport\n",
    "\n",
    "import warnings\n",
    "warnings.filterwarnings('ignore')"
   ]
  },
  {
   "cell_type": "code",
   "execution_count": 4,
   "metadata": {},
   "outputs": [],
   "source": [
    "pd.set_option('display.max_rows',1000)\n",
    "pd.set_option('display.max_columns',1000)\n",
    "pd.set_option('display.width',1000)"
   ]
  },
  {
   "cell_type": "markdown",
   "metadata": {},
   "source": [
    "## <a id='toc1_2_'></a>[2. Importing Data](#toc0_)"
   ]
  },
  {
   "cell_type": "code",
   "execution_count": null,
   "metadata": {},
   "outputs": [],
   "source": [
    "file_path = 'data.xlsx'\n",
    "\n",
    "df = pd.read_excel(file_path)\n",
    "\n",
    "df.head()"
   ]
  },
  {
   "cell_type": "markdown",
   "metadata": {},
   "source": [
    "## <a id='toc1_3_'></a>[3. Data Preprocessing](#toc0_)"
   ]
  },
  {
   "cell_type": "code",
   "execution_count": null,
   "metadata": {},
   "outputs": [],
   "source": [
    "# Filter rows where 'Miktar' is greater than 0\n",
    "df = df[df['Miktar'] > 0]\n",
    "\n",
    "replacements_for_kategori_adi = {\n",
    "    'Alkollü İçecekler Grubu': 'Alkollü İçecek Grubu',\n",
    "    'Alkolsüz İçecekler Grubu': 'Alkolsüz İçecek Grubu',\n",
    "    'TA_Ticari Market Ürün Grubu': 'TA-Ticari Market Ürün Grubu',\n",
    "    'Pizza grubu': 'Pizza Grubu',\n",
    "    'Salata grubu': 'Salata Grubu',\n",
    "    'Tatlı grubu': 'Tatlı Grubu',\n",
    "    'Snack Grubu': 'Atıştırmalıklar'\n",
    "}\n",
    "\n",
    "# Replace the values in the 'KategoriAdı' column\n",
    "df['KategoriAdı'] = df['KategoriAdı'].replace(replacements_for_kategori_adi)\n",
    "\n",
    "# Define the replacements\n",
    "replacements_for_alt_kategori_adi = {\n",
    "    'Açik Içecekler': 'Açık İçecekler',\n",
    "    'Balık Salata': 'Balıklı Salata',\n",
    "    'Kasaönü': 'Kasa Önü',\n",
    "    'Sandviç': 'Sandviçler'\n",
    "}\n",
    "\n",
    "# Replace the values in the 'AltKategoriAdi' column\n",
    "df['AltKategoriAdi'] = df['AltKategoriAdi'].replace(replacements_for_alt_kategori_adi)\n",
    "\n",
    "# Convert 'Tarih' column to datetime\n",
    "df['Tarih'] = pd.to_datetime(df['Tarih'])\n",
    "\n",
    "# Convert 'FaturaNo' column to integer\n",
    "df['FaturaNo'] = df['FaturaNo'].astype(int)\n",
    "\n",
    "# Convert 'Miktar' column to float\n",
    "df['Miktar'] = df['Miktar'].astype(float)\n",
    "\n",
    "# Create mappings for 'Birim', 'KategoriAdı', 'AltKategoriAdi', and 'MagazaKodu'\n",
    "birim_mapping = {'ADET': 1, 'PORS': 2, 'DILIM': 3} # Adet -> 0.10 luk üs, # Dilim -> Integer, # Pors -> 0.5'lik üs\n",
    "kategori_mapping = {kategori: i+1 for i, kategori in enumerate(df['KategoriAdı'].unique())}\n",
    "alt_kategori_mapping = {alt_kategori: i+1 for i, alt_kategori in enumerate(df['AltKategoriAdi'].unique())}\n",
    "magaza_mapping = {'A1': 1, 'B1': 2, 'B2': 3, 'C2': 4, 'C3': 5, 'D3': 6}\n",
    "\n",
    "# Create new dataframes for mappings\n",
    "birim_df = pd.DataFrame(list(birim_mapping.items()), columns=['Birim', 'Birim_ID'])\n",
    "kategori_df = pd.DataFrame(list(kategori_mapping.items()), columns=['KategoriAdı', 'Kategori_ID'])\n",
    "alt_kategori_df = pd.DataFrame(list(alt_kategori_mapping.items()), columns=['AltKategoriAdi', 'AltKategori_ID'])\n",
    "magaza_df = pd.DataFrame(list(magaza_mapping.items()), columns=['MagazaKodu', 'Magaza_ID'])\n",
    "\n",
    "birim_df.to_pickle(\"kodlar/birim.pkl\")\n",
    "kategori_df.to_pickle(\"kodlar/kategori.pkl\")\n",
    "alt_kategori_df.to_pickle(\"kodlar/alt_kategori.pkl\")\n",
    "magaza_df.to_pickle(\"kodlar/magaza.pkl\")\n",
    "\n",
    "# Apply mappings to respective columns\n",
    "df['Birim'] = df['Birim'].map(birim_mapping)\n",
    "df['KategoriAdı'] = df['KategoriAdı'].map(kategori_mapping)\n",
    "df['AltKategoriAdi'] = df['AltKategoriAdi'].map(alt_kategori_mapping)\n",
    "df['MagazaKodu'] = df['MagazaKodu'].map(magaza_mapping)\n",
    "\n",
    "# Sum the faturas by other values \n",
    "df = df.groupby(df.columns.difference(['FaturaNo']).tolist(), as_index=False).agg({'Miktar': 'sum'})\n",
    "\n",
    "# Sort the dataframe by Tarih and ÜrünKodu\n",
    "df = df.sort_values(by=['Tarih', 'ÜrünKodu'])"
   ]
  },
  {
   "cell_type": "code",
   "execution_count": null,
   "metadata": {},
   "outputs": [
    {
     "data": {
      "text/html": [
       "<div>\n",
       "<style scoped>\n",
       "    .dataframe tbody tr th:only-of-type {\n",
       "        vertical-align: middle;\n",
       "    }\n",
       "\n",
       "    .dataframe tbody tr th {\n",
       "        vertical-align: top;\n",
       "    }\n",
       "\n",
       "    .dataframe thead th {\n",
       "        text-align: right;\n",
       "    }\n",
       "</style>\n",
       "<table border=\"1\" class=\"dataframe\">\n",
       "  <thead>\n",
       "    <tr style=\"text-align: right;\">\n",
       "      <th></th>\n",
       "      <th>AltKategoriAdi</th>\n",
       "      <th>Birim</th>\n",
       "      <th>KategoriAdı</th>\n",
       "      <th>MagazaKodu</th>\n",
       "      <th>Tarih</th>\n",
       "      <th>ÜrünKodu</th>\n",
       "      <th>Miktar</th>\n",
       "    </tr>\n",
       "  </thead>\n",
       "  <tbody>\n",
       "    <tr>\n",
       "      <th>167229</th>\n",
       "      <td>50</td>\n",
       "      <td>1</td>\n",
       "      <td>21</td>\n",
       "      <td>1</td>\n",
       "      <td>2023-01-01</td>\n",
       "      <td>30.101.0079</td>\n",
       "      <td>1.0</td>\n",
       "    </tr>\n",
       "    <tr>\n",
       "      <th>167230</th>\n",
       "      <td>50</td>\n",
       "      <td>1</td>\n",
       "      <td>21</td>\n",
       "      <td>1</td>\n",
       "      <td>2023-01-01</td>\n",
       "      <td>30.101.0301</td>\n",
       "      <td>1.0</td>\n",
       "    </tr>\n",
       "    <tr>\n",
       "      <th>169961</th>\n",
       "      <td>50</td>\n",
       "      <td>2</td>\n",
       "      <td>21</td>\n",
       "      <td>1</td>\n",
       "      <td>2023-01-01</td>\n",
       "      <td>30.101.0540</td>\n",
       "      <td>1.0</td>\n",
       "    </tr>\n",
       "    <tr>\n",
       "      <th>347594</th>\n",
       "      <td>105</td>\n",
       "      <td>2</td>\n",
       "      <td>17</td>\n",
       "      <td>1</td>\n",
       "      <td>2023-01-01</td>\n",
       "      <td>30.101.0604</td>\n",
       "      <td>1.0</td>\n",
       "    </tr>\n",
       "    <tr>\n",
       "      <th>380825</th>\n",
       "      <td>115</td>\n",
       "      <td>2</td>\n",
       "      <td>2</td>\n",
       "      <td>2</td>\n",
       "      <td>2023-01-01</td>\n",
       "      <td>30.101.0605</td>\n",
       "      <td>2.0</td>\n",
       "    </tr>\n",
       "    <tr>\n",
       "      <th>...</th>\n",
       "      <td>...</td>\n",
       "      <td>...</td>\n",
       "      <td>...</td>\n",
       "      <td>...</td>\n",
       "      <td>...</td>\n",
       "      <td>...</td>\n",
       "      <td>...</td>\n",
       "    </tr>\n",
       "    <tr>\n",
       "      <th>184740</th>\n",
       "      <td>60</td>\n",
       "      <td>1</td>\n",
       "      <td>15</td>\n",
       "      <td>6</td>\n",
       "      <td>2023-11-30</td>\n",
       "      <td>30.304.0197</td>\n",
       "      <td>1.0</td>\n",
       "    </tr>\n",
       "    <tr>\n",
       "      <th>101884</th>\n",
       "      <td>29</td>\n",
       "      <td>1</td>\n",
       "      <td>15</td>\n",
       "      <td>4</td>\n",
       "      <td>2023-11-30</td>\n",
       "      <td>30.305.0102</td>\n",
       "      <td>2.0</td>\n",
       "    </tr>\n",
       "    <tr>\n",
       "      <th>102583</th>\n",
       "      <td>29</td>\n",
       "      <td>1</td>\n",
       "      <td>15</td>\n",
       "      <td>4</td>\n",
       "      <td>2023-11-30</td>\n",
       "      <td>30.305.0117</td>\n",
       "      <td>3.0</td>\n",
       "    </tr>\n",
       "    <tr>\n",
       "      <th>101885</th>\n",
       "      <td>29</td>\n",
       "      <td>1</td>\n",
       "      <td>15</td>\n",
       "      <td>4</td>\n",
       "      <td>2023-11-30</td>\n",
       "      <td>30.305.0118</td>\n",
       "      <td>1.0</td>\n",
       "    </tr>\n",
       "    <tr>\n",
       "      <th>239337</th>\n",
       "      <td>85</td>\n",
       "      <td>1</td>\n",
       "      <td>15</td>\n",
       "      <td>5</td>\n",
       "      <td>2023-11-30</td>\n",
       "      <td>30.511.0090</td>\n",
       "      <td>1.0</td>\n",
       "    </tr>\n",
       "  </tbody>\n",
       "</table>\n",
       "<p>382929 rows × 7 columns</p>\n",
       "</div>"
      ],
      "text/plain": [
       "        AltKategoriAdi  Birim  KategoriAdı  MagazaKodu      Tarih     ÜrünKodu  Miktar\n",
       "167229              50      1           21           1 2023-01-01  30.101.0079     1.0\n",
       "167230              50      1           21           1 2023-01-01  30.101.0301     1.0\n",
       "169961              50      2           21           1 2023-01-01  30.101.0540     1.0\n",
       "347594             105      2           17           1 2023-01-01  30.101.0604     1.0\n",
       "380825             115      2            2           2 2023-01-01  30.101.0605     2.0\n",
       "...                ...    ...          ...         ...        ...          ...     ...\n",
       "184740              60      1           15           6 2023-11-30  30.304.0197     1.0\n",
       "101884              29      1           15           4 2023-11-30  30.305.0102     2.0\n",
       "102583              29      1           15           4 2023-11-30  30.305.0117     3.0\n",
       "101885              29      1           15           4 2023-11-30  30.305.0118     1.0\n",
       "239337              85      1           15           5 2023-11-30  30.511.0090     1.0\n",
       "\n",
       "[382929 rows x 7 columns]"
      ]
     },
     "execution_count": 5,
     "metadata": {},
     "output_type": "execute_result"
    }
   ],
   "source": [
    "df.to_pickle(\"preprocessed_data.pkl\")\n",
    "\n",
    "df"
   ]
  },
  {
   "cell_type": "markdown",
   "metadata": {},
   "source": [
    "## <a id='toc1_4_'></a>[4. Analyizing](#toc0_)"
   ]
  },
  {
   "cell_type": "code",
   "execution_count": null,
   "metadata": {},
   "outputs": [],
   "source": [
    "profile = ProfileReport(df, title=\"GSU Data Challenge - TAV Data Profiling Report\")\n",
    "\n",
    "profile"
   ]
  },
  {
   "cell_type": "code",
   "execution_count": null,
   "metadata": {},
   "outputs": [],
   "source": [
    "df.info()"
   ]
  },
  {
   "cell_type": "code",
   "execution_count": null,
   "metadata": {},
   "outputs": [],
   "source": [
    "df.describe()"
   ]
  },
  {
   "cell_type": "code",
   "execution_count": null,
   "metadata": {},
   "outputs": [],
   "source": [
    "# Group by MagazaKodu and iterate over each group\n",
    "for magaza_kodu, group_df in df.groupby('MagazaKodu'):\n",
    "    print(f\"Summary statistics for Magaza {magaza_df.loc[magaza_df['Magaza_ID'] == magaza_kodu, 'MagazaKodu'].iloc[0]}:\\n\")\n",
    "    print(group_df.head())\n",
    "    print()\n",
    "    print(group_df.describe())\n",
    "    print()\n",
    "    print(\"##############################################################################################################\")"
   ]
  },
  {
   "cell_type": "markdown",
   "metadata": {},
   "source": [
    "## <a id='toc1_5_'></a>[5. Splitting Data to Test and Train the Model](#toc0_)"
   ]
  },
  {
   "cell_type": "code",
   "execution_count": null,
   "metadata": {},
   "outputs": [],
   "source": [
    "# Sort the DataFrame by 'Tarih' and then by 'ÜrünKodu'\n",
    "df_sorted = df.sort_values(by=['Tarih'])\n",
    "\n",
    "split_date = \"2023-10-30\"\n",
    "\n",
    "# Split the DataFrame into train and test sets\n",
    "train_df = df_sorted[df_sorted['Tarih'] <= split_date]\n",
    "train_df = train_df.sort_values(by=['Tarih', \"ÜrünKodu\"])\n",
    "\n",
    "test_df = df_sorted[df_sorted['Tarih'] > split_date]\n",
    "test_df = test_df.sort_values(by=['Tarih', \"ÜrünKodu\"])\n",
    "\n",
    "train_df.to_pickle(\"train_data.pkl\")\n",
    "test_df.to_pickle(\"test_data.pkl\")\n",
    "\n",
    "# Display the shapes of train and test DataFrames\n",
    "print(\"Train DataFrame shape:\", train_df.shape)\n",
    "print(\"Test DataFrame shape:\", test_df.shape)"
   ]
  },
  {
   "cell_type": "markdown",
   "metadata": {},
   "source": [
    "## <a id='toc1_6_'></a>[6. Train the Model](#toc0_)"
   ]
  },
  {
   "cell_type": "markdown",
   "metadata": {},
   "source": [
    "### <a id='toc1_6_1_'></a>[6.1. Product Based Estimation By ARIMA](#toc0_)"
   ]
  },
  {
   "cell_type": "code",
   "execution_count": 114,
   "metadata": {},
   "outputs": [],
   "source": [
    "from statsmodels.tsa.arima.model import ARIMA"
   ]
  },
  {
   "cell_type": "code",
   "execution_count": 115,
   "metadata": {},
   "outputs": [],
   "source": [
    "def custom_round(row):\n",
    "    if row['Birim'] == 1:\n",
    "        return round(row['Miktar'] * 10) / 10\n",
    "    elif row[\"Birim\"] == 2:\n",
    "        return int(row['Miktar'])\n",
    "    else:\n",
    "        return round(row['Miktar'] * 2) / 2"
   ]
  },
  {
   "cell_type": "code",
   "execution_count": 116,
   "metadata": {},
   "outputs": [],
   "source": [
    "df_arima = pd.read_pickle(\"preprocessed_data.pkl\")"
   ]
  },
  {
   "cell_type": "code",
   "execution_count": 137,
   "metadata": {},
   "outputs": [],
   "source": [
    "def estimate_future_value(df, product_id, store_id):\n",
    "    # Filter data for the current product\n",
    "    product_data = df[ ( df['ÜrünKodu'] == product_id ) & ( df[\"MagazaKodu\"] == store_id )]\n",
    "\n",
    "    before_data = product_data[[\"Tarih\", \"Miktar\", \"Birim\"]]\n",
    "\n",
    "    if product_data.empty:\n",
    "        return \"This store is not selling the product\"\n",
    "    # Split the data into training and testing sets\n",
    "    train_size = int(len(product_data) * 0.8)\n",
    "    train, test = product_data[:train_size], product_data[train_size:]\n",
    "    \n",
    "    # Fit an ARIMA model\n",
    "    model = ARIMA(train['Miktar'], order=(5,1,0)) # Example order, you may need to tune this\n",
    "    model_fit = model.fit()\n",
    "    \n",
    "    # Optionally, forecast future sales\n",
    "    future_steps = 10 # Example number of steps to forecast\n",
    "    future_forecast = model_fit.forecast(steps=future_steps)\n",
    "    \n",
    "    # Generate date range for forecast\n",
    "    last_date = product_data['Tarih'].max()\n",
    "    forecast_dates = pd.date_range(start=last_date, periods=future_steps+1, freq='D')[1:] # Start from the day after the last date\n",
    "    \n",
    "    # Create DataFrame for forecasted values with dates\n",
    "    forecast_df = pd.DataFrame({'Tarih': forecast_dates, 'Miktar': future_forecast, 'Birim': product_data.iloc[0][\"Birim\"]})\n",
    "\n",
    "    forecast_df[\"Miktar\"] = forecast_df.apply(custom_round, axis=1)\n",
    "    \n",
    "    result_df = pd.concat([before_data, forecast_df], axis=False)\n",
    "    result_df.reset_index(drop=True, inplace=True)\n",
    "\n",
    "    print('Forecast for Product', product_id)\n",
    "    print(result_df)\n",
    "\n",
    "    plt.figure(figsize=(18, 6))\n",
    "\n",
    "    # Plot the dataframe\n",
    "    plt.plot(result_df['Tarih'], result_df['Miktar'])\n",
    "\n",
    "    # Add labels and title\n",
    "    plt.xlabel('Tarih')\n",
    "    plt.ylabel('Miktar')\n",
    "    plt.title(f'{product_id} Ürününün ARIMA ile Gelecek Değer Tahminleri')\n",
    "\n",
    "    # Add padding to top and bottom\n",
    "    plt.ylim(result_df['Miktar'].min() - 5, result_df['Miktar'].max() + 5)\n",
    "\n",
    "    plt.grid(True)\n",
    "\n",
    "    # Show the plot\n",
    "    plt.show()\n",
    "\n",
    "    return result_df"
   ]
  },
  {
   "cell_type": "code",
   "execution_count": 138,
   "metadata": {},
   "outputs": [
    {
     "name": "stdout",
     "output_type": "stream",
     "text": [
      "Forecast for Product 30.511.0090\n",
      "        Tarih  Miktar  Birim\n",
      "0  2023-11-16     1.0      1\n",
      "1  2023-11-17     1.0      1\n",
      "2  2023-11-19     2.0      1\n",
      "3  2023-11-25     2.0      1\n",
      "4  2023-11-26     1.0      1\n",
      "5  2023-11-28     2.0      1\n",
      "6  2023-11-30     1.0      1\n",
      "7  2023-12-01     1.0      1\n",
      "8  2023-12-02     2.0      1\n",
      "9  2023-12-03     2.0      1\n",
      "10 2023-12-04     1.0      1\n",
      "11 2023-12-05     1.0      1\n",
      "12 2023-12-06     2.0      1\n",
      "13 2023-12-07     2.0      1\n",
      "14 2023-12-08     1.0      1\n",
      "15 2023-12-09     1.0      1\n",
      "16 2023-12-10     2.0      1\n"
     ]
    },
    {
     "data": {
      "image/png": "[encoded data removed]",
      "text/plain": [
       "<Figure size 1800x600 with 1 Axes>"
      ]
     },
     "metadata": {},
     "output_type": "display_data"
    },
    {
     "data": {
      "text/html": [
       "<div>\n",
       "<style scoped>\n",
       "    .dataframe tbody tr th:only-of-type {\n",
       "        vertical-align: middle;\n",
       "    }\n",
       "\n",
       "    .dataframe tbody tr th {\n",
       "        vertical-align: top;\n",
       "    }\n",
       "\n",
       "    .dataframe thead th {\n",
       "        text-align: right;\n",
       "    }\n",
       "</style>\n",
       "<table border=\"1\" class=\"dataframe\">\n",
       "  <thead>\n",
       "    <tr style=\"text-align: right;\">\n",
       "      <th></th>\n",
       "      <th>Tarih</th>\n",
       "      <th>Miktar</th>\n",
       "      <th>Birim</th>\n",
       "    </tr>\n",
       "  </thead>\n",
       "  <tbody>\n",
       "    <tr>\n",
       "      <th>0</th>\n",
       "      <td>2023-11-16</td>\n",
       "      <td>1.0</td>\n",
       "      <td>1</td>\n",
       "    </tr>\n",
       "    <tr>\n",
       "      <th>1</th>\n",
       "      <td>2023-11-17</td>\n",
       "      <td>1.0</td>\n",
       "      <td>1</td>\n",
       "    </tr>\n",
       "    <tr>\n",
       "      <th>2</th>\n",
       "      <td>2023-11-19</td>\n",
       "      <td>2.0</td>\n",
       "      <td>1</td>\n",
       "    </tr>\n",
       "    <tr>\n",
       "      <th>3</th>\n",
       "      <td>2023-11-25</td>\n",
       "      <td>2.0</td>\n",
       "      <td>1</td>\n",
       "    </tr>\n",
       "    <tr>\n",
       "      <th>4</th>\n",
       "      <td>2023-11-26</td>\n",
       "      <td>1.0</td>\n",
       "      <td>1</td>\n",
       "    </tr>\n",
       "    <tr>\n",
       "      <th>5</th>\n",
       "      <td>2023-11-28</td>\n",
       "      <td>2.0</td>\n",
       "      <td>1</td>\n",
       "    </tr>\n",
       "    <tr>\n",
       "      <th>6</th>\n",
       "      <td>2023-11-30</td>\n",
       "      <td>1.0</td>\n",
       "      <td>1</td>\n",
       "    </tr>\n",
       "    <tr>\n",
       "      <th>7</th>\n",
       "      <td>2023-12-01</td>\n",
       "      <td>1.0</td>\n",
       "      <td>1</td>\n",
       "    </tr>\n",
       "    <tr>\n",
       "      <th>8</th>\n",
       "      <td>2023-12-02</td>\n",
       "      <td>2.0</td>\n",
       "      <td>1</td>\n",
       "    </tr>\n",
       "    <tr>\n",
       "      <th>9</th>\n",
       "      <td>2023-12-03</td>\n",
       "      <td>2.0</td>\n",
       "      <td>1</td>\n",
       "    </tr>\n",
       "    <tr>\n",
       "      <th>10</th>\n",
       "      <td>2023-12-04</td>\n",
       "      <td>1.0</td>\n",
       "      <td>1</td>\n",
       "    </tr>\n",
       "    <tr>\n",
       "      <th>11</th>\n",
       "      <td>2023-12-05</td>\n",
       "      <td>1.0</td>\n",
       "      <td>1</td>\n",
       "    </tr>\n",
       "    <tr>\n",
       "      <th>12</th>\n",
       "      <td>2023-12-06</td>\n",
       "      <td>2.0</td>\n",
       "      <td>1</td>\n",
       "    </tr>\n",
       "    <tr>\n",
       "      <th>13</th>\n",
       "      <td>2023-12-07</td>\n",
       "      <td>2.0</td>\n",
       "      <td>1</td>\n",
       "    </tr>\n",
       "    <tr>\n",
       "      <th>14</th>\n",
       "      <td>2023-12-08</td>\n",
       "      <td>1.0</td>\n",
       "      <td>1</td>\n",
       "    </tr>\n",
       "    <tr>\n",
       "      <th>15</th>\n",
       "      <td>2023-12-09</td>\n",
       "      <td>1.0</td>\n",
       "      <td>1</td>\n",
       "    </tr>\n",
       "    <tr>\n",
       "      <th>16</th>\n",
       "      <td>2023-12-10</td>\n",
       "      <td>2.0</td>\n",
       "      <td>1</td>\n",
       "    </tr>\n",
       "  </tbody>\n",
       "</table>\n",
       "</div>"
      ],
      "text/plain": [
       "        Tarih  Miktar  Birim\n",
       "0  2023-11-16     1.0      1\n",
       "1  2023-11-17     1.0      1\n",
       "2  2023-11-19     2.0      1\n",
       "3  2023-11-25     2.0      1\n",
       "4  2023-11-26     1.0      1\n",
       "5  2023-11-28     2.0      1\n",
       "6  2023-11-30     1.0      1\n",
       "7  2023-12-01     1.0      1\n",
       "8  2023-12-02     2.0      1\n",
       "9  2023-12-03     2.0      1\n",
       "10 2023-12-04     1.0      1\n",
       "11 2023-12-05     1.0      1\n",
       "12 2023-12-06     2.0      1\n",
       "13 2023-12-07     2.0      1\n",
       "14 2023-12-08     1.0      1\n",
       "15 2023-12-09     1.0      1\n",
       "16 2023-12-10     2.0      1"
      ]
     },
     "execution_count": 138,
     "metadata": {},
     "output_type": "execute_result"
    }
   ],
   "source": [
    "estimate_future_value(df_arima, product_id=\"30.511.0090\", store_id=5)"
   ]
  },
  {
   "cell_type": "markdown",
   "metadata": {},
   "source": [
    "### <a id='toc1_6_2_'></a>[6.2 By Random Forest Regressor](#toc0_)"
   ]
  },
  {
   "cell_type": "code",
   "execution_count": null,
   "metadata": {},
   "outputs": [],
   "source": [
    "from sklearn.model_selection import train_test_split\n",
    "from sklearn.ensemble import RandomForestRegressor\n",
    "from sklearn.metrics import mean_squared_error\n",
    "from sklearn.preprocessing import LabelEncoder\n",
    "from sklearn.compose import ColumnTransformer\n",
    "from sklearn.pipeline import Pipeline\n",
    "from sklearn.preprocessing import OneHotEncoder\n",
    "from sklearn.preprocessing import StandardScaler\n",
    "from sklearn.compose import make_column_selector as selector"
   ]
  },
  {
   "cell_type": "code",
   "execution_count": null,
   "metadata": {},
   "outputs": [],
   "source": [
    "df_rfr = pd.read_pickle(\"preprocessed_data.pkl\")"
   ]
  },
  {
   "cell_type": "code",
   "execution_count": null,
   "metadata": {},
   "outputs": [],
   "source": [
    "# Convert categorical columns to numerical using one-hot encoding\n",
    "df_rfr = pd.get_dummies(df_rfr, columns=['AltKategoriAdi', 'Birim', 'KategoriAdı', 'MagazaKodu'], dtype=np.int64)\n",
    "\n",
    "df_rfr[\"Tarih\"] = df_rfr[\"Tarih\"].apply(lambda x: x.toordinal()).astype('float64')"
   ]
  },
  {
   "cell_type": "code",
   "execution_count": null,
   "metadata": {},
   "outputs": [],
   "source": [
    "df_rfr2 = df_rfr.copy()\n",
    "\n",
    "# Split features and target variable\n",
    "X = df_rfr2.drop(['ÜrünKodu', 'Miktar'], axis=1)\n",
    "y = df_rfr2['Miktar']\n",
    "\n",
    "# Split data into training and testing sets\n",
    "X_train, X_test, y_train, y_test = train_test_split(X, y, test_size=0.2)"
   ]
  },
  {
   "cell_type": "code",
   "execution_count": null,
   "metadata": {},
   "outputs": [],
   "source": [
    "# Model Selection and Training\n",
    "random_forest_regressor_model = RandomForestRegressor(n_estimators=100, random_state=42)"
   ]
  },
  {
   "cell_type": "code",
   "execution_count": null,
   "metadata": {},
   "outputs": [
    {
     "name": "stdout",
     "output_type": "stream",
     "text": [
      "Mean Squared Error: 93.41005637521121\n"
     ]
    }
   ],
   "source": [
    "# Train the model\n",
    "random_forest_regressor_model.fit(X_train, y_train)\n",
    "\n",
    "# Make predictions\n",
    "y_pred = random_forest_regressor_model.predict(X_test)\n",
    "\n",
    "# Evaluate the model\n",
    "mse = mean_squared_error(y_test, y_pred)\n",
    "print(f\"Mean Squared Error: {mse}\")"
   ]
  },
  {
   "cell_type": "code",
   "execution_count": null,
   "metadata": {},
   "outputs": [
    {
     "name": "stdout",
     "output_type": "stream",
     "text": [
      "[ 1.01        1.192       8.4358373  ... 12.48452936  2.15766066\n",
      "  3.21564011]\n"
     ]
    }
   ],
   "source": [
    "print(y_pred)"
   ]
  },
  {
   "cell_type": "markdown",
   "metadata": {},
   "source": [
    "### <a id='toc1_6_3_'></a>[6.3. LSTM Method](#toc0_)"
   ]
  },
  {
   "cell_type": "markdown",
   "metadata": {},
   "source": [
    "#### <a id='toc1_6_3_1_'></a>[!!! WILL BE EDITED](#toc0_)"
   ]
  },
  {
   "cell_type": "code",
   "execution_count": 97,
   "metadata": {},
   "outputs": [],
   "source": [
    "from sklearn.preprocessing import LabelEncoder\n",
    "from sklearn.preprocessing import MinMaxScaler\n",
    " \n",
    "def series_to_supervised(data, n_in=1, n_out=1, dropnan=True):\n",
    "\tn_vars = 1 if type(data) is list else data.shape[1]\n",
    "\tdf = pd.DataFrame(data)\n",
    "\tcols, names = list(), list()\n",
    "\t# input sequence (t-n, ... t-1)\n",
    "\tfor i in range(n_in, 0, -1):\n",
    "\t\tcols.append(df.shift(i))\n",
    "\t\tnames += [('var%d(t-%d)' % (j+1, i)) for j in range(n_vars)]\n",
    "\t# forecast sequence (t, t+1, ... t+n)\n",
    "\tfor i in range(0, n_out):\n",
    "\t\tcols.append(df.shift(-i))\n",
    "\t\tif i == 0:\n",
    "\t\t\tnames += [('var%d(t)' % (j+1)) for j in range(n_vars)]\n",
    "\t\telse:\n",
    "\t\t\tnames += [('var%d(t+%d)' % (j+1, i)) for j in range(n_vars)]\n",
    "\t# put it all together\n",
    "\tagg = pd.concat(cols, axis=1)\n",
    "\tagg.columns = names\n",
    "\t# drop rows with NaN values\n",
    "\tif dropnan:\n",
    "\t\tagg.dropna(inplace=True)\n",
    "\treturn agg"
   ]
  },
  {
   "cell_type": "code",
   "execution_count": 35,
   "metadata": {},
   "outputs": [
    {
     "name": "stdout",
     "output_type": "stream",
     "text": [
      "WARNING:tensorflow:From d:\\Projects\\data_challenge\\venv_data\\lib\\site-packages\\keras\\src\\losses.py:2976: The name tf.losses.sparse_softmax_cross_entropy is deprecated. Please use tf.compat.v1.losses.sparse_softmax_cross_entropy instead.\n",
      "\n"
     ]
    }
   ],
   "source": [
    "from keras.models import Sequential\n",
    "from keras.layers import Dense\n",
    "from keras.layers import LSTM"
   ]
  },
  {
   "cell_type": "code",
   "execution_count": 39,
   "metadata": {},
   "outputs": [],
   "source": [
    "df_lstm = pd.read_pickle(\"preprocessed_data.pkl\")"
   ]
  },
  {
   "cell_type": "code",
   "execution_count": 111,
   "metadata": {},
   "outputs": [],
   "source": [
    "def estimate_future_value(df, product_id):\n",
    "    # Filter data for the current product\n",
    "    product_data = df[df['ÜrünKodu'] == product_id ]\n",
    "    \n",
    "    product_data.drop(columns=['ÜrünKodu'], inplace=True)\n",
    "    product_data.set_index('Tarih', inplace=True)\n",
    "    product_data.index.name = 'date'\n",
    "    values = product_data.values\n",
    "\n",
    "    print(values)\n",
    "\n",
    "    # integer encode direction\n",
    "    encoder = LabelEncoder()\n",
    "    values[:,0] = encoder.fit_transform(values[:,0])\n",
    "    values[:,1] = encoder.fit_transform(values[:,1])\n",
    "    values[:,2] = encoder.fit_transform(values[:,2])\n",
    "    values[:,3] = encoder.fit_transform(values[:,3])\n",
    "    # ensure all data is float\n",
    "    values = values.astype('float32')\n",
    "\n",
    "    print(values)\n",
    "\n",
    "    # normalize features\n",
    "    scaler = MinMaxScaler()\n",
    "    scaled = scaler.fit_transform(values)\n",
    "    # frame as supervised learning\n",
    "    reframed = series_to_supervised(scaled, 1, 1)\n",
    "    # drop columns we don't want to predict\n",
    "    # reframed.drop(reframed.columns[[0, 1, 2, 3, 5, 6, 7, 8, 9]], axis=1, inplace=True)\n",
    "    print(reframed.head())\n",
    "\n",
    "    # split into train and test sets\n",
    "    values = reframed.values\n",
    "    n_train_hours = 365 * 24\n",
    "    train = values[:n_train_hours, :]\n",
    "    test = values[n_train_hours:, :]\n",
    "    # split into input and outputs\n",
    "    train_X, train_y = train[:, :-1], train[:, -1]\n",
    "    test_X, test_y = test[:, :-1], test[:, -1]\n",
    "    # reshape input to be 3D [samples, timesteps, features]\n",
    "    train_X = train_X.reshape((train_X.shape[0], 1, train_X.shape[1]))\n",
    "    test_X = test_X.reshape((test_X.shape[0], 1, test_X.shape[1]))\n",
    "    print(train_X.shape, train_y.shape, test_X.shape, test_y.shape)\n",
    "\n",
    "    # design network\n",
    "    model = Sequential()\n",
    "    model.add(LSTM(50, input_shape=(train_X.shape[1], train_X.shape[2])))\n",
    "    model.add(Dense(1))\n",
    "    model.compile(loss='mae', optimizer='adam')\n",
    "    # fit network\n",
    "    history = model.fit(train_X, train_y, epochs=50, batch_size=72, validation_data=(test_X, test_y), verbose=2, shuffle=False)\n",
    "    # plot history\n",
    "    plt.plot(history.history['loss'], label='train')\n",
    "    plt.plot(history.history['val_loss'], label='test')\n",
    "    plt.legend()\n",
    "    plt.show()\n",
    "    \n",
    "    # make a prediction\n",
    "    yhat = model.predict(test_X)\n",
    "    test_X = test_X.reshape((test_X.shape[0], test_X.shape[2]))\n",
    "    # invert scaling for forecast\n",
    "    inv_yhat = pd.concatenate((yhat, test_X[:, 1:]), axis=1)\n",
    "    inv_yhat = scaler.inverse_transform(inv_yhat)\n",
    "    inv_yhat = inv_yhat[:,0]\n",
    "    # invert scaling for actual\n",
    "    test_y = test_y.reshape((len(test_y), 1))\n",
    "    inv_y = pd.concatenate((test_y, test_X[:, 1:]), axis=1)\n",
    "    inv_y = scaler.inverse_transform(inv_y)\n",
    "    inv_y = inv_y[:,0]\n",
    "    # calculate RMSE\n",
    "    rmse = pd.sqrt(mean_squared_error(inv_y, inv_yhat))\n",
    "    print('Test RMSE: %.3f' % rmse)"
   ]
  },
  {
   "cell_type": "code",
   "execution_count": null,
   "metadata": {},
   "outputs": [],
   "source": [
    "estimate_future_value(df = df_lstm, product_id=\"30.105.0612\")"
   ]
  }
 ],
 "metadata": {
  "kernelspec": {
   "display_name": "venv_data",
   "language": "python",
   "name": "python3"
  },
  "language_info": {
   "codemirror_mode": {
    "name": "ipython",
    "version": 3
   },
   "file_extension": ".py",
   "mimetype": "text/x-python",
   "name": "python",
   "nbconvert_exporter": "python",
   "pygments_lexer": "ipython3",
   "version": "3.10.6"
  }
 },
 "nbformat": 4,
 "nbformat_minor": 2
}
